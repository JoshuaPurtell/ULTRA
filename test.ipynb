{
 "cells": [
  {
   "cell_type": "code",
   "execution_count": null,
   "metadata": {},
   "outputs": [],
   "source": [
    "from ultra_50g.modeling import UltraForKnowledgeGraphReasoning\n",
    "from ultra_50g.ultra.datasets import CoDExSmall\n",
    "from ultra_50g.ultra.eval import test\n",
    "model = UltraForKnowledgeGraphReasoning.from_pretrained(\"mgalkin/ultra_50g\")\n",
    "dataset = CoDExSmall(root=\"./datasets/\")\n",
    "test(model, mode=\"test\", dataset=dataset, gpus=None)\n",
    "print(\"Done!\")"
   ]
  }
 ],
 "metadata": {
  "kernelspec": {
   "display_name": "arnold",
   "language": "python",
   "name": "python3"
  },
  "language_info": {
   "codemirror_mode": {
    "name": "ipython",
    "version": 3
   },
   "file_extension": ".py",
   "mimetype": "text/x-python",
   "name": "python",
   "nbconvert_exporter": "python",
   "pygments_lexer": "ipython3",
   "version": "3.9.1"
  }
 },
 "nbformat": 4,
 "nbformat_minor": 2
}
